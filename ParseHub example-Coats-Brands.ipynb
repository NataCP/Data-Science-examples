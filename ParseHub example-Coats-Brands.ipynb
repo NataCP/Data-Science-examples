{
 "cells": [
  {
   "cell_type": "code",
   "execution_count": 85,
   "metadata": {},
   "outputs": [],
   "source": [
    "import pandas as pd\n",
    "import numpy as np"
   ]
  },
  {
   "cell_type": "code",
   "execution_count": 86,
   "metadata": {},
   "outputs": [
    {
     "data": {
      "text/html": [
       "<div>\n",
       "<style scoped>\n",
       "    .dataframe tbody tr th:only-of-type {\n",
       "        vertical-align: middle;\n",
       "    }\n",
       "\n",
       "    .dataframe tbody tr th {\n",
       "        vertical-align: top;\n",
       "    }\n",
       "\n",
       "    .dataframe thead th {\n",
       "        text-align: right;\n",
       "    }\n",
       "</style>\n",
       "<table border=\"1\" class=\"dataframe\">\n",
       "  <thead>\n",
       "    <tr style=\"text-align: right;\">\n",
       "      <th></th>\n",
       "      <th>coats_name</th>\n",
       "      <th>coats_url</th>\n",
       "      <th>coats_price</th>\n",
       "      <th>coats_price_url</th>\n",
       "      <th>coats_availability</th>\n",
       "      <th>coats_availability_url</th>\n",
       "      <th>coats_brand</th>\n",
       "      <th>coats_brand_url</th>\n",
       "    </tr>\n",
       "  </thead>\n",
       "  <tbody>\n",
       "    <tr>\n",
       "      <th>0</th>\n",
       "      <td>Ανδρικό παλτό μαύρο OZONEE JB/1048Z</td>\n",
       "      <td>https://www.glami.gr/pigainete-sto-katastima/o...</td>\n",
       "      <td>59,95 €</td>\n",
       "      <td>https://www.glami.gr/pigainete-sto-katastima/o...</td>\n",
       "      <td>Σε απόθεμα</td>\n",
       "      <td>https://www.glami.gr/pigainete-sto-katastima/o...</td>\n",
       "      <td>OZONEE</td>\n",
       "      <td>https://www.glami.gr/pigainete-sto-katastima/o...</td>\n",
       "    </tr>\n",
       "    <tr>\n",
       "      <th>1</th>\n",
       "      <td>Ανδρικό παλτό μπεζ OZONEE JB/1048Z</td>\n",
       "      <td>https://www.glami.gr/pigainete-sto-katastima/o...</td>\n",
       "      <td>59,95 €</td>\n",
       "      <td>https://www.glami.gr/pigainete-sto-katastima/o...</td>\n",
       "      <td>Σε απόθεμα</td>\n",
       "      <td>https://www.glami.gr/pigainete-sto-katastima/o...</td>\n",
       "      <td>OZONEE</td>\n",
       "      <td>https://www.glami.gr/pigainete-sto-katastima/o...</td>\n",
       "    </tr>\n",
       "    <tr>\n",
       "      <th>2</th>\n",
       "      <td>Παλτο Religion 31HNXJ46</td>\n",
       "      <td>https://www.glami.gr/pigainete-sto-katastima/r...</td>\n",
       "      <td>120,49 €</td>\n",
       "      <td>https://www.glami.gr/pigainete-sto-katastima/r...</td>\n",
       "      <td>Σε απόθεμα</td>\n",
       "      <td>https://www.glami.gr/pigainete-sto-katastima/r...</td>\n",
       "      <td>Religion</td>\n",
       "      <td>https://www.glami.gr/pigainete-sto-katastima/r...</td>\n",
       "    </tr>\n",
       "    <tr>\n",
       "      <th>3</th>\n",
       "      <td>JACK &amp; JONES Ανοιξιάτικο και φθινοπωρινό παλτό...</td>\n",
       "      <td>https://www.glami.gr/pigainete-sto-katastima/j...</td>\n",
       "      <td>69,90 €</td>\n",
       "      <td>https://www.glami.gr/pigainete-sto-katastima/j...</td>\n",
       "      <td>Σε απόθεμα</td>\n",
       "      <td>https://www.glami.gr/pigainete-sto-katastima/j...</td>\n",
       "      <td>Jack &amp; Jones</td>\n",
       "      <td>https://www.glami.gr/pigainete-sto-katastima/j...</td>\n",
       "    </tr>\n",
       "    <tr>\n",
       "      <th>4</th>\n",
       "      <td>Ανδρικά παλτό Petrol Industries</td>\n",
       "      <td>https://www.glami.gr/pigainete-sto-katastima/p...</td>\n",
       "      <td>133,51 €</td>\n",
       "      <td>https://www.glami.gr/pigainete-sto-katastima/p...</td>\n",
       "      <td>Σε απόθεμα</td>\n",
       "      <td>https://www.glami.gr/pigainete-sto-katastima/p...</td>\n",
       "      <td>Petrol Industries</td>\n",
       "      <td>https://www.glami.gr/pigainete-sto-katastima/p...</td>\n",
       "    </tr>\n",
       "  </tbody>\n",
       "</table>\n",
       "</div>"
      ],
      "text/plain": [
       "                                          coats_name  \\\n",
       "0                Ανδρικό παλτό μαύρο OZONEE JB/1048Z   \n",
       "1                 Ανδρικό παλτό μπεζ OZONEE JB/1048Z   \n",
       "2                            Παλτο Religion 31HNXJ46   \n",
       "3  JACK & JONES Ανοιξιάτικο και φθινοπωρινό παλτό...   \n",
       "4                    Ανδρικά παλτό Petrol Industries   \n",
       "\n",
       "                                           coats_url coats_price  \\\n",
       "0  https://www.glami.gr/pigainete-sto-katastima/o...     59,95 €   \n",
       "1  https://www.glami.gr/pigainete-sto-katastima/o...     59,95 €   \n",
       "2  https://www.glami.gr/pigainete-sto-katastima/r...    120,49 €   \n",
       "3  https://www.glami.gr/pigainete-sto-katastima/j...     69,90 €   \n",
       "4  https://www.glami.gr/pigainete-sto-katastima/p...    133,51 €   \n",
       "\n",
       "                                     coats_price_url coats_availability  \\\n",
       "0  https://www.glami.gr/pigainete-sto-katastima/o...         Σε απόθεμα   \n",
       "1  https://www.glami.gr/pigainete-sto-katastima/o...         Σε απόθεμα   \n",
       "2  https://www.glami.gr/pigainete-sto-katastima/r...         Σε απόθεμα   \n",
       "3  https://www.glami.gr/pigainete-sto-katastima/j...         Σε απόθεμα   \n",
       "4  https://www.glami.gr/pigainete-sto-katastima/p...         Σε απόθεμα   \n",
       "\n",
       "                              coats_availability_url        coats_brand  \\\n",
       "0  https://www.glami.gr/pigainete-sto-katastima/o...             OZONEE   \n",
       "1  https://www.glami.gr/pigainete-sto-katastima/o...             OZONEE   \n",
       "2  https://www.glami.gr/pigainete-sto-katastima/r...           Religion   \n",
       "3  https://www.glami.gr/pigainete-sto-katastima/j...       Jack & Jones   \n",
       "4  https://www.glami.gr/pigainete-sto-katastima/p...  Petrol Industries   \n",
       "\n",
       "                                     coats_brand_url  \n",
       "0  https://www.glami.gr/pigainete-sto-katastima/o...  \n",
       "1  https://www.glami.gr/pigainete-sto-katastima/o...  \n",
       "2  https://www.glami.gr/pigainete-sto-katastima/r...  \n",
       "3  https://www.glami.gr/pigainete-sto-katastima/j...  \n",
       "4  https://www.glami.gr/pigainete-sto-katastima/p...  "
      ]
     },
     "execution_count": 86,
     "metadata": {},
     "output_type": "execute_result"
    }
   ],
   "source": [
    "df_coats = pd.read_csv('Azure Challenge/data/coats.csv')\n",
    "df_coats.head()"
   ]
  },
  {
   "cell_type": "code",
   "execution_count": 88,
   "metadata": {},
   "outputs": [
    {
     "name": "stdout",
     "output_type": "stream",
     "text": [
      "<class 'pandas.core.frame.DataFrame'>\n",
      "RangeIndex: 122 entries, 0 to 121\n",
      "Data columns (total 8 columns):\n",
      " #   Column                  Non-Null Count  Dtype \n",
      "---  ------                  --------------  ----- \n",
      " 0   coats_name              122 non-null    object\n",
      " 1   coats_url               122 non-null    object\n",
      " 2   coats_price             122 non-null    object\n",
      " 3   coats_price_url         122 non-null    object\n",
      " 4   coats_availability      122 non-null    object\n",
      " 5   coats_availability_url  122 non-null    object\n",
      " 6   coats_brand             115 non-null    object\n",
      " 7   coats_brand_url         115 non-null    object\n",
      "dtypes: object(8)\n",
      "memory usage: 7.8+ KB\n"
     ]
    }
   ],
   "source": [
    "df_coats.info()"
   ]
  },
  {
   "cell_type": "code",
   "execution_count": 89,
   "metadata": {},
   "outputs": [
    {
     "data": {
      "text/html": [
       "<div>\n",
       "<style scoped>\n",
       "    .dataframe tbody tr th:only-of-type {\n",
       "        vertical-align: middle;\n",
       "    }\n",
       "\n",
       "    .dataframe tbody tr th {\n",
       "        vertical-align: top;\n",
       "    }\n",
       "\n",
       "    .dataframe thead th {\n",
       "        text-align: right;\n",
       "    }\n",
       "</style>\n",
       "<table border=\"1\" class=\"dataframe\">\n",
       "  <thead>\n",
       "    <tr style=\"text-align: right;\">\n",
       "      <th></th>\n",
       "      <th>coats_name</th>\n",
       "      <th>coats_price</th>\n",
       "      <th>coats_availability</th>\n",
       "      <th>coats_brand</th>\n",
       "    </tr>\n",
       "  </thead>\n",
       "  <tbody>\n",
       "    <tr>\n",
       "      <th>0</th>\n",
       "      <td>Ανδρικό παλτό μαύρο OZONEE JB/1048Z</td>\n",
       "      <td>59,95 €</td>\n",
       "      <td>Σε απόθεμα</td>\n",
       "      <td>OZONEE</td>\n",
       "    </tr>\n",
       "    <tr>\n",
       "      <th>1</th>\n",
       "      <td>Ανδρικό παλτό μπεζ OZONEE JB/1048Z</td>\n",
       "      <td>59,95 €</td>\n",
       "      <td>Σε απόθεμα</td>\n",
       "      <td>OZONEE</td>\n",
       "    </tr>\n",
       "    <tr>\n",
       "      <th>2</th>\n",
       "      <td>Παλτο Religion 31HNXJ46</td>\n",
       "      <td>120,49 €</td>\n",
       "      <td>Σε απόθεμα</td>\n",
       "      <td>Religion</td>\n",
       "    </tr>\n",
       "    <tr>\n",
       "      <th>3</th>\n",
       "      <td>JACK &amp; JONES Ανοιξιάτικο και φθινοπωρινό παλτό...</td>\n",
       "      <td>69,90 €</td>\n",
       "      <td>Σε απόθεμα</td>\n",
       "      <td>Jack &amp; Jones</td>\n",
       "    </tr>\n",
       "    <tr>\n",
       "      <th>4</th>\n",
       "      <td>Ανδρικά παλτό Petrol Industries</td>\n",
       "      <td>133,51 €</td>\n",
       "      <td>Σε απόθεμα</td>\n",
       "      <td>Petrol Industries</td>\n",
       "    </tr>\n",
       "    <tr>\n",
       "      <th>...</th>\n",
       "      <td>...</td>\n",
       "      <td>...</td>\n",
       "      <td>...</td>\n",
       "      <td>...</td>\n",
       "    </tr>\n",
       "    <tr>\n",
       "      <th>117</th>\n",
       "      <td>Παλτό Liu Jo χρώμα: ναυτικό μπλε,</td>\n",
       "      <td>289,90 €</td>\n",
       "      <td>Σε απόθεμα</td>\n",
       "      <td>Liu Jo</td>\n",
       "    </tr>\n",
       "    <tr>\n",
       "      <th>118</th>\n",
       "      <td>Ανδρικά παλτό S.Oliver</td>\n",
       "      <td>164,43 €</td>\n",
       "      <td>Σε απόθεμα</td>\n",
       "      <td>S.Oliver</td>\n",
       "    </tr>\n",
       "    <tr>\n",
       "      <th>119</th>\n",
       "      <td>Ανδρικά παλτό London Fog</td>\n",
       "      <td>201,11 €</td>\n",
       "      <td>Σε απόθεμα</td>\n",
       "      <td>London Fog</td>\n",
       "    </tr>\n",
       "    <tr>\n",
       "      <th>120</th>\n",
       "      <td>TOM TAILOR ΜΑΛΛΙΝΟ ΠΑΛΤΟ ΑΝΔΡΙΚΟ 1020697-13124</td>\n",
       "      <td>138,25 €</td>\n",
       "      <td>Σε απόθεμα</td>\n",
       "      <td>TOM TAILOR</td>\n",
       "    </tr>\n",
       "    <tr>\n",
       "      <th>121</th>\n",
       "      <td>BOSS Μάλλινος παλτό H-Hyde Standup 214 | με τη...</td>\n",
       "      <td>469,99 €</td>\n",
       "      <td>Σε απόθεμα</td>\n",
       "      <td>BOSS</td>\n",
       "    </tr>\n",
       "  </tbody>\n",
       "</table>\n",
       "<p>122 rows × 4 columns</p>\n",
       "</div>"
      ],
      "text/plain": [
       "                                            coats_name coats_price  \\\n",
       "0                  Ανδρικό παλτό μαύρο OZONEE JB/1048Z     59,95 €   \n",
       "1                   Ανδρικό παλτό μπεζ OZONEE JB/1048Z     59,95 €   \n",
       "2                              Παλτο Religion 31HNXJ46    120,49 €   \n",
       "3    JACK & JONES Ανοιξιάτικο και φθινοπωρινό παλτό...     69,90 €   \n",
       "4                      Ανδρικά παλτό Petrol Industries    133,51 €   \n",
       "..                                                 ...         ...   \n",
       "117                  Παλτό Liu Jo χρώμα: ναυτικό μπλε,    289,90 €   \n",
       "118                             Ανδρικά παλτό S.Oliver    164,43 €   \n",
       "119                           Ανδρικά παλτό London Fog    201,11 €   \n",
       "120     TOM TAILOR ΜΑΛΛΙΝΟ ΠΑΛΤΟ ΑΝΔΡΙΚΟ 1020697-13124    138,25 €   \n",
       "121  BOSS Μάλλινος παλτό H-Hyde Standup 214 | με τη...    469,99 €   \n",
       "\n",
       "    coats_availability        coats_brand  \n",
       "0           Σε απόθεμα             OZONEE  \n",
       "1           Σε απόθεμα             OZONEE  \n",
       "2           Σε απόθεμα           Religion  \n",
       "3           Σε απόθεμα       Jack & Jones  \n",
       "4           Σε απόθεμα  Petrol Industries  \n",
       "..                 ...                ...  \n",
       "117         Σε απόθεμα             Liu Jo  \n",
       "118         Σε απόθεμα           S.Oliver  \n",
       "119         Σε απόθεμα         London Fog  \n",
       "120         Σε απόθεμα         TOM TAILOR  \n",
       "121         Σε απόθεμα               BOSS  \n",
       "\n",
       "[122 rows x 4 columns]"
      ]
     },
     "execution_count": 89,
     "metadata": {},
     "output_type": "execute_result"
    }
   ],
   "source": [
    "df_coats.drop(df_coats.columns[[1, 3, 5, 7]], axis=1, inplace=True)\n",
    "df_coats"
   ]
  },
  {
   "cell_type": "code",
   "execution_count": 90,
   "metadata": {},
   "outputs": [
    {
     "data": {
      "text/plain": [
       "coats_name            object\n",
       "coats_price           object\n",
       "coats_availability    object\n",
       "coats_brand           object\n",
       "dtype: object"
      ]
     },
     "execution_count": 90,
     "metadata": {},
     "output_type": "execute_result"
    }
   ],
   "source": [
    "df_coats.dtypes"
   ]
  },
  {
   "cell_type": "code",
   "execution_count": 91,
   "metadata": {},
   "outputs": [
    {
     "data": {
      "text/plain": [
       "coats_name            0\n",
       "coats_price           0\n",
       "coats_availability    0\n",
       "coats_brand           7\n",
       "dtype: int64"
      ]
     },
     "execution_count": 91,
     "metadata": {},
     "output_type": "execute_result"
    }
   ],
   "source": [
    "df_coats.isnull().sum()"
   ]
  },
  {
   "cell_type": "code",
   "execution_count": 92,
   "metadata": {},
   "outputs": [
    {
     "data": {
      "text/html": [
       "<div>\n",
       "<style scoped>\n",
       "    .dataframe tbody tr th:only-of-type {\n",
       "        vertical-align: middle;\n",
       "    }\n",
       "\n",
       "    .dataframe tbody tr th {\n",
       "        vertical-align: top;\n",
       "    }\n",
       "\n",
       "    .dataframe thead th {\n",
       "        text-align: right;\n",
       "    }\n",
       "</style>\n",
       "<table border=\"1\" class=\"dataframe\">\n",
       "  <thead>\n",
       "    <tr style=\"text-align: right;\">\n",
       "      <th></th>\n",
       "      <th>coats_name</th>\n",
       "      <th>coats_brand</th>\n",
       "    </tr>\n",
       "  </thead>\n",
       "  <tbody>\n",
       "    <tr>\n",
       "      <th>28</th>\n",
       "      <td>Ανδρικά παλτό</td>\n",
       "      <td>NaN</td>\n",
       "    </tr>\n",
       "    <tr>\n",
       "      <th>29</th>\n",
       "      <td>Ανδρικά παλτό About you x Kevin Trapp</td>\n",
       "      <td>NaN</td>\n",
       "    </tr>\n",
       "    <tr>\n",
       "      <th>30</th>\n",
       "      <td>Ανδρικά παλτό</td>\n",
       "      <td>NaN</td>\n",
       "    </tr>\n",
       "    <tr>\n",
       "      <th>57</th>\n",
       "      <td>Μάλλινο παλτό Jack&amp;Jones PREMIUM</td>\n",
       "      <td>NaN</td>\n",
       "    </tr>\n",
       "    <tr>\n",
       "      <th>58</th>\n",
       "      <td>Μάλλινο παλτό Jack&amp;Jones PREMIUM</td>\n",
       "      <td>NaN</td>\n",
       "    </tr>\n",
       "    <tr>\n",
       "      <th>68</th>\n",
       "      <td>Μάλλινο παλτό Jack&amp;Jones PREMIUM</td>\n",
       "      <td>NaN</td>\n",
       "    </tr>\n",
       "    <tr>\n",
       "      <th>111</th>\n",
       "      <td>Μπουφάν μεταβατικό Jack&amp;Jones PREMIUM</td>\n",
       "      <td>NaN</td>\n",
       "    </tr>\n",
       "  </tbody>\n",
       "</table>\n",
       "</div>"
      ],
      "text/plain": [
       "                                coats_name coats_brand\n",
       "28                           Ανδρικά παλτό         NaN\n",
       "29   Ανδρικά παλτό About you x Kevin Trapp         NaN\n",
       "30                           Ανδρικά παλτό         NaN\n",
       "57        Μάλλινο παλτό Jack&Jones PREMIUM         NaN\n",
       "58        Μάλλινο παλτό Jack&Jones PREMIUM         NaN\n",
       "68        Μάλλινο παλτό Jack&Jones PREMIUM         NaN\n",
       "111  Μπουφάν μεταβατικό Jack&Jones PREMIUM         NaN"
      ]
     },
     "execution_count": 92,
     "metadata": {},
     "output_type": "execute_result"
    }
   ],
   "source": [
    "df_coats[df_coats.isnull().any(axis=1)][['coats_name','coats_brand']]"
   ]
  },
  {
   "cell_type": "code",
   "execution_count": 93,
   "metadata": {},
   "outputs": [],
   "source": [
    "df_coats.coats_brand = df_coats.coats_brand.fillna('PREMIUM')"
   ]
  },
  {
   "cell_type": "code",
   "execution_count": 94,
   "metadata": {},
   "outputs": [
    {
     "data": {
      "text/plain": [
       "coats_name            0\n",
       "coats_price           0\n",
       "coats_availability    0\n",
       "coats_brand           0\n",
       "dtype: int64"
      ]
     },
     "execution_count": 94,
     "metadata": {},
     "output_type": "execute_result"
    }
   ],
   "source": [
    "df_coats.isnull().sum()"
   ]
  },
  {
   "cell_type": "markdown",
   "metadata": {},
   "source": [
    "The prices are object type, so we turn them to string and replace the ',' to '.'. Then we remove the last two digits of the price value ( €) and turn the value to float."
   ]
  },
  {
   "cell_type": "code",
   "execution_count": 95,
   "metadata": {},
   "outputs": [
    {
     "data": {
      "text/plain": [
       "0       59,95 €\n",
       "1       59,95 €\n",
       "2      120,49 €\n",
       "3       69,90 €\n",
       "4      133,51 €\n",
       "         ...   \n",
       "117    289,90 €\n",
       "118    164,43 €\n",
       "119    201,11 €\n",
       "120    138,25 €\n",
       "121    469,99 €\n",
       "Name: coats_price, Length: 122, dtype: string"
      ]
     },
     "execution_count": 95,
     "metadata": {},
     "output_type": "execute_result"
    }
   ],
   "source": [
    "df_coats['coats_price'].astype('string')"
   ]
  },
  {
   "cell_type": "code",
   "execution_count": 96,
   "metadata": {},
   "outputs": [
    {
     "data": {
      "text/plain": [
       "0       59.95 €\n",
       "1       59.95 €\n",
       "2      120.49 €\n",
       "3       69.90 €\n",
       "4      133.51 €\n",
       "         ...   \n",
       "117    289.90 €\n",
       "118    164.43 €\n",
       "119    201.11 €\n",
       "120    138.25 €\n",
       "121    469.99 €\n",
       "Name: coats_price, Length: 122, dtype: object"
      ]
     },
     "execution_count": 96,
     "metadata": {},
     "output_type": "execute_result"
    }
   ],
   "source": [
    "df_coats['coats_price']=df_coats['coats_price'].str.replace(\",\",\".\")\n",
    "df_coats['coats_price']"
   ]
  },
  {
   "cell_type": "code",
   "execution_count": 98,
   "metadata": {},
   "outputs": [
    {
     "data": {
      "text/plain": [
       "0       59.95\n",
       "1       59.95\n",
       "2      120.49\n",
       "3       69.90\n",
       "4      133.51\n",
       "        ...  \n",
       "117    289.90\n",
       "118    164.43\n",
       "119    201.11\n",
       "120    138.25\n",
       "121    469.99\n",
       "Name: coats_price, Length: 122, dtype: float64"
      ]
     },
     "execution_count": 98,
     "metadata": {},
     "output_type": "execute_result"
    }
   ],
   "source": [
    "df_coats['coats_price']=df_coats['coats_price'].str[:-2].astype(float)\n",
    "df_coats['coats_price']"
   ]
  },
  {
   "cell_type": "code",
   "execution_count": 99,
   "metadata": {},
   "outputs": [
    {
     "data": {
      "text/html": [
       "<div>\n",
       "<style scoped>\n",
       "    .dataframe tbody tr th:only-of-type {\n",
       "        vertical-align: middle;\n",
       "    }\n",
       "\n",
       "    .dataframe tbody tr th {\n",
       "        vertical-align: top;\n",
       "    }\n",
       "\n",
       "    .dataframe thead th {\n",
       "        text-align: right;\n",
       "    }\n",
       "</style>\n",
       "<table border=\"1\" class=\"dataframe\">\n",
       "  <thead>\n",
       "    <tr style=\"text-align: right;\">\n",
       "      <th></th>\n",
       "      <th>coats_price</th>\n",
       "    </tr>\n",
       "  </thead>\n",
       "  <tbody>\n",
       "    <tr>\n",
       "      <th>count</th>\n",
       "      <td>122.000000</td>\n",
       "    </tr>\n",
       "    <tr>\n",
       "      <th>mean</th>\n",
       "      <td>199.141803</td>\n",
       "    </tr>\n",
       "    <tr>\n",
       "      <th>std</th>\n",
       "      <td>123.392536</td>\n",
       "    </tr>\n",
       "    <tr>\n",
       "      <th>min</th>\n",
       "      <td>33.400000</td>\n",
       "    </tr>\n",
       "    <tr>\n",
       "      <th>25%</th>\n",
       "      <td>99.922500</td>\n",
       "    </tr>\n",
       "    <tr>\n",
       "      <th>50%</th>\n",
       "      <td>169.000000</td>\n",
       "    </tr>\n",
       "    <tr>\n",
       "      <th>75%</th>\n",
       "      <td>294.725000</td>\n",
       "    </tr>\n",
       "    <tr>\n",
       "      <th>max</th>\n",
       "      <td>561.340000</td>\n",
       "    </tr>\n",
       "  </tbody>\n",
       "</table>\n",
       "</div>"
      ],
      "text/plain": [
       "       coats_price\n",
       "count   122.000000\n",
       "mean    199.141803\n",
       "std     123.392536\n",
       "min      33.400000\n",
       "25%      99.922500\n",
       "50%     169.000000\n",
       "75%     294.725000\n",
       "max     561.340000"
      ]
     },
     "execution_count": 99,
     "metadata": {},
     "output_type": "execute_result"
    }
   ],
   "source": [
    "df_coats.describe()"
   ]
  },
  {
   "cell_type": "code",
   "execution_count": 111,
   "metadata": {},
   "outputs": [
    {
     "data": {
      "text/plain": [
       "<AxesSubplot:xlabel='coats_brand', ylabel='coats_price'>"
      ]
     },
     "execution_count": 111,
     "metadata": {},
     "output_type": "execute_result"
    },
    {
     "data": {
      "image/png": "[encoded data removed]",
      "text/plain": [
       "<Figure size 1080x720 with 1 Axes>"
      ]
     },
     "metadata": {
      "needs_background": "light"
     },
     "output_type": "display_data"
    }
   ],
   "source": [
    "df_coats.plot(x='coats_brand', y='coats_price', kind='scatter', figsize=(15,10), rot=90)"
   ]
  }
 ],
 "metadata": {
  "kernelspec": {
   "display_name": "Python 3",
   "language": "python",
   "name": "python3"
  },
  "language_info": {
   "codemirror_mode": {
    "name": "ipython",
    "version": 3
   },
   "file_extension": ".py",
   "mimetype": "text/x-python",
   "name": "python",
   "nbconvert_exporter": "python",
   "pygments_lexer": "ipython3",
   "version": "3.8.5"
  }
 },
 "nbformat": 4,
 "nbformat_minor": 4
}
